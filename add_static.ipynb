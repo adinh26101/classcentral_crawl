{
 "cells": [
  {
   "cell_type": "code",
   "execution_count": 28,
   "metadata": {},
   "outputs": [],
   "source": [
    "from bs4 import BeautifulSoup\n",
    "import os\n",
    "import glob"
   ]
  },
  {
   "cell_type": "code",
   "execution_count": 29,
   "metadata": {},
   "outputs": [],
   "source": [
    "path = os.getcwd() + \"/pages\"\n",
    "html_files = glob.glob(os.path.join(path, \"*.html\"))"
   ]
  },
  {
   "cell_type": "code",
   "execution_count": 30,
   "metadata": {},
   "outputs": [],
   "source": [
    "def add_static(path_file):\n",
    "    soup = BeautifulSoup(open(path_file, encoding='utf8'), 'html.parser')\n",
    "    href = soup.find_all(href=True)\n",
    "\n",
    "    for url in href:\n",
    "        base = '/webpack/utils'\n",
    "        if url['href'] == '/apple-touch-icon.png':\n",
    "            url['href'] = base + '/apple-touch-icon.png'\n",
    "        elif url['href'] == '/favicon-32x32.png':\n",
    "            url['href'] = base + '/favicon-32x32.png'\n",
    "        elif url['href'] == '/favicon-16x16.png':\n",
    "            url['href'] = base + '/favicon-16x16.png'\n",
    "        elif url['href'] == '/site.webmanifest':\n",
    "            url['href'] = base + '/site.webmanifest'\n",
    "        elif url['href'] == '/safari-pinned-tab.svg':\n",
    "            url['href'] = base + '/safari-pinned-tab.svg'\n",
    "        elif url['href'] == '/safari-pinned-tab.svg':\n",
    "            url['href'] = base + '/opensearch.xml'\n",
    "    \n",
    "    html = soup.prettify(\"utf-8\")\n",
    "    with open(path_file, \"wb\") as file:\n",
    "        file.write(html)"
   ]
  },
  {
   "cell_type": "code",
   "execution_count": 31,
   "metadata": {},
   "outputs": [],
   "source": [
    "for html_file in html_files:\n",
    "    add_static(html_file)"
   ]
  }
 ],
 "metadata": {
  "kernelspec": {
   "display_name": "Python 3",
   "language": "python",
   "name": "python3"
  },
  "language_info": {
   "codemirror_mode": {
    "name": "ipython",
    "version": 3
   },
   "file_extension": ".py",
   "mimetype": "text/x-python",
   "name": "python",
   "nbconvert_exporter": "python",
   "pygments_lexer": "ipython3",
   "version": "3.11.2"
  },
  "orig_nbformat": 4
 },
 "nbformat": 4,
 "nbformat_minor": 2
}
