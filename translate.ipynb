{
 "cells": [
  {
   "cell_type": "code",
   "execution_count": 86,
   "metadata": {},
   "outputs": [],
   "source": [
    "from bs4 import BeautifulSoup\n",
    "import os\n",
    "import glob\n",
    "import re\n",
    "from englisttohindi.englisttohindi import EngtoHindi"
   ]
  },
  {
   "cell_type": "code",
   "execution_count": 87,
   "metadata": {},
   "outputs": [],
   "source": [
    "path = os.getcwd() + \"/pages\"\n",
    "html_files = glob.glob(os.path.join(path, \"*.html\"))"
   ]
  },
  {
   "cell_type": "code",
   "execution_count": 88,
   "metadata": {},
   "outputs": [],
   "source": [
    "tags_text = ['title', 'a', 'p', 'h', 'h1', 'h2', 'h3', 'h4', 'h5', 'h6', 'h7', 'span', 'button', 'strong']"
   ]
  },
  {
   "cell_type": "code",
   "execution_count": 89,
   "metadata": {},
   "outputs": [],
   "source": [
    "def translate(path_file):\n",
    "    soup = BeautifulSoup(open(path_file, encoding='utf8'), 'html.parser')\n",
    "\n",
    "    for tag_text in tags_text:\n",
    "        tags = soup.find_all(tag_text)\n",
    "        try:\n",
    "            for tag in tags:\n",
    "                text = tag.text\n",
    "                if text.isspace() == False:\n",
    "                    if tag.name == 'a':\n",
    "                        if len(tag.findChildren()) == 0:\n",
    "                            tag.string = EngtoHindi(text).convert\n",
    "                    else:\n",
    "                        tag.string = ''.join(\n",
    "                            [EngtoHindi(t).convert\n",
    "                                if not re.match(r'<[^>]+>', str(t))\n",
    "                                else str(t)\n",
    "                                for t in tag.contents])\n",
    "        except:\n",
    "            pass\n",
    "\n",
    "    html = soup.prettify(\"utf-8\")\n",
    "    with open(path_file.replace('pages', 'hindi_pages'), \"wb\") as file:\n",
    "        file.write(html)"
   ]
  },
  {
   "cell_type": "code",
   "execution_count": 90,
   "metadata": {},
   "outputs": [
    {
     "name": "stdout",
     "output_type": "stream",
     "text": [
      "Failed to Make Response  'NoneType' object is not subscriptable\n"
     ]
    },
    {
     "ename": "TypeError",
     "evalue": "sequence item 2: expected str instance, NoneType found",
     "output_type": "error",
     "traceback": [
      "\u001b[1;31m---------------------------------------------------------------------------\u001b[0m",
      "\u001b[1;31mTypeError\u001b[0m                                 Traceback (most recent call last)",
      "Cell \u001b[1;32mIn[90], line 2\u001b[0m\n\u001b[0;32m      1\u001b[0m \u001b[39mfor\u001b[39;00m html_file \u001b[39min\u001b[39;00m html_files:\n\u001b[1;32m----> 2\u001b[0m     translate(html_file)\n",
      "Cell \u001b[1;32mIn[89], line 14\u001b[0m, in \u001b[0;36mtranslate\u001b[1;34m(path_file)\u001b[0m\n\u001b[0;32m     12\u001b[0m                     tag\u001b[39m.\u001b[39mstring \u001b[39m=\u001b[39m EngtoHindi(text)\u001b[39m.\u001b[39mconvert\n\u001b[0;32m     13\u001b[0m             \u001b[39melse\u001b[39;00m:\n\u001b[1;32m---> 14\u001b[0m                 tag\u001b[39m.\u001b[39mstring \u001b[39m=\u001b[39m \u001b[39m'\u001b[39m\u001b[39m'\u001b[39m\u001b[39m.\u001b[39mjoin(\n\u001b[0;32m     15\u001b[0m                     [EngtoHindi(t)\u001b[39m.\u001b[39mconvert\n\u001b[0;32m     16\u001b[0m                         \u001b[39mif\u001b[39;00m \u001b[39mnot\u001b[39;00m re\u001b[39m.\u001b[39mmatch(\u001b[39mr\u001b[39m\u001b[39m'\u001b[39m\u001b[39m<[^>]+>\u001b[39m\u001b[39m'\u001b[39m, \u001b[39mstr\u001b[39m(t))\n\u001b[0;32m     17\u001b[0m                         \u001b[39melse\u001b[39;00m \u001b[39mstr\u001b[39m(t)\n\u001b[0;32m     18\u001b[0m                         \u001b[39mfor\u001b[39;00m t \u001b[39min\u001b[39;00m tag\u001b[39m.\u001b[39mcontents])\n\u001b[0;32m     20\u001b[0m html \u001b[39m=\u001b[39m soup\u001b[39m.\u001b[39mprettify(\u001b[39m\"\u001b[39m\u001b[39mutf-8\u001b[39m\u001b[39m\"\u001b[39m)\n\u001b[0;32m     21\u001b[0m \u001b[39mwith\u001b[39;00m \u001b[39mopen\u001b[39m(path_file\u001b[39m.\u001b[39mreplace(\u001b[39m'\u001b[39m\u001b[39mpages\u001b[39m\u001b[39m'\u001b[39m, \u001b[39m'\u001b[39m\u001b[39mhindi_pages\u001b[39m\u001b[39m'\u001b[39m), \u001b[39m\"\u001b[39m\u001b[39mwb\u001b[39m\u001b[39m\"\u001b[39m) \u001b[39mas\u001b[39;00m file:\n",
      "\u001b[1;31mTypeError\u001b[0m: sequence item 2: expected str instance, NoneType found"
     ]
    }
   ],
   "source": [
    "for html_file in html_files:\n",
    "    translate(html_file)"
   ]
  }
 ],
 "metadata": {
  "kernelspec": {
   "display_name": "Python 3",
   "language": "python",
   "name": "python3"
  },
  "language_info": {
   "codemirror_mode": {
    "name": "ipython",
    "version": 3
   },
   "file_extension": ".py",
   "mimetype": "text/x-python",
   "name": "python",
   "nbconvert_exporter": "python",
   "pygments_lexer": "ipython3",
   "version": "3.11.2"
  },
  "orig_nbformat": 4
 },
 "nbformat": 4,
 "nbformat_minor": 2
}
