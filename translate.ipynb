{
 "cells": [
  {
   "cell_type": "code",
   "execution_count": 1,
   "metadata": {},
   "outputs": [],
   "source": [
    "from bs4 import BeautifulSoup\n",
    "from bs4.element import NavigableString\n",
    "import os\n",
    "import glob\n",
    "import re\n",
    "\n",
    "from englisttohindi.englisttohindi import EngtoHindi"
   ]
  },
  {
   "cell_type": "code",
   "execution_count": 2,
   "metadata": {},
   "outputs": [],
   "source": [
    "path = os.getcwd() + \"/pages\"\n",
    "html_files = glob.glob(os.path.join(path, \"*.html\"))"
   ]
  },
  {
   "cell_type": "code",
   "execution_count": 3,
   "metadata": {},
   "outputs": [],
   "source": [
    "tags_text = ['title', 'a', 'p', 'h', 'h1', 'h2', 'h3', 'h4', 'h5', 'h6', 'h7', 'span', 'button', 'strong']"
   ]
  },
  {
   "cell_type": "code",
   "execution_count": 4,
   "metadata": {},
   "outputs": [],
   "source": [
    "def handle_sentence(sentence):\n",
    "    try:\n",
    "        if sentence.isspace() == False:\n",
    "            target = ' '.join(sentence.split())\n",
    "            sentence = sentence.replace(target, EngtoHindi(target).convert)\n",
    "            return sentence\n",
    "\n",
    "        return ''\n",
    "    \n",
    "    except:\n",
    "        return ''"
   ]
  },
  {
   "cell_type": "code",
   "execution_count": 5,
   "metadata": {},
   "outputs": [],
   "source": [
    "def entohin(txt):\n",
    "    sentences = ''\n",
    "    for sentence in txt.split('.'):\n",
    "        sentences = sentences + handle_sentence(sentence) + '.'\n",
    "    return sentences"
   ]
  },
  {
   "cell_type": "code",
   "execution_count": 6,
   "metadata": {},
   "outputs": [],
   "source": [
    "def translate(path_file):\n",
    "    soup = BeautifulSoup(open(path_file, encoding='utf8'), 'html.parser')\n",
    "\n",
    "    for tag_text in tags_text:\n",
    "        tag = soup.find_all(tag_text)\n",
    "        for i in range(len(tag)):\n",
    "            contents = tag[i].contents\n",
    "            for j in range(len(contents)):\n",
    "                if not re.match(r'<[^>]+>', str(tag[i].contents[j]))  and str(tag[i].contents[j]).isspace() == False:\n",
    "                    tag[i].contents[j] = NavigableString(entohin(tag[i].contents[j]))\n",
    "\n",
    "    html = soup.prettify(\"utf-8\")\n",
    "    with open(path_file.replace('pages', 'hindi_pages'), \"wb\") as file:\n",
    "        file.write(html)"
   ]
  },
  {
   "cell_type": "code",
   "execution_count": 7,
   "metadata": {},
   "outputs": [
    {
     "name": "stdout",
     "output_type": "stream",
     "text": [
      "Failed to Make Response  'NoneType' object is not subscriptable\n",
      "Failed to Make Response  'NoneType' object is not subscriptable\n",
      "Failed to Make Response  'NoneType' object is not subscriptable\n",
      "Failed to Make Response  'NoneType' object is not subscriptable\n",
      "Failed to Make Response  'NoneType' object is not subscriptable\n",
      "Failed to Make Response  'NoneType' object is not subscriptable\n",
      "Failed to Make Response  'NoneType' object is not subscriptable\n",
      "Failed to Make Response  'NoneType' object is not subscriptable\n",
      "Failed to Make Response  'NoneType' object is not subscriptable\n",
      "Failed to Make Response  'NoneType' object is not subscriptable\n",
      "Failed to Make Response  'NoneType' object is not subscriptable\n",
      "Failed to Make Response  'NoneType' object is not subscriptable\n",
      "Failed to Make Response  'NoneType' object is not subscriptable\n",
      "Failed to Make Response  'NoneType' object is not subscriptable\n",
      "Failed to Make Response  'NoneType' object is not subscriptable\n",
      "Failed to Make Response  'NoneType' object is not subscriptable\n",
      "Failed to Make Response  'NoneType' object is not subscriptable\n",
      "Failed to Make Response  'NoneType' object is not subscriptable\n",
      "Failed to Make Response  'NoneType' object is not subscriptable\n",
      "Failed to Make Response  'NoneType' object is not subscriptable\n",
      "Failed to Make Response  'NoneType' object is not subscriptable\n",
      "Failed to Make Response  'NoneType' object is not subscriptable\n",
      "Failed to Make Response  'NoneType' object is not subscriptable\n",
      "Failed to Make Response  'NoneType' object is not subscriptable\n",
      "Failed to Make Response  'NoneType' object is not subscriptable\n",
      "Failed to Make Response  'NoneType' object is not subscriptable\n",
      "Failed to Make Response  'NoneType' object is not subscriptable\n",
      "Failed to Make Response  'NoneType' object is not subscriptable\n",
      "Failed to Make Response  ('Connection aborted.', RemoteDisconnected('Remote end closed connection without response'))\n",
      "Failed to Make Response  'NoneType' object is not subscriptable\n",
      "Failed to Make Response  'NoneType' object is not subscriptable\n",
      "Failed to Make Response  'NoneType' object is not subscriptable\n",
      "Failed to Make Response  'NoneType' object is not subscriptable\n",
      "Failed to Make Response  'NoneType' object is not subscriptable\n",
      "Failed to Make Response  'NoneType' object is not subscriptable\n",
      "Failed to Make Response  'NoneType' object is not subscriptable\n",
      "Failed to Make Response  'NoneType' object is not subscriptable\n",
      "Failed to Make Response  'NoneType' object is not subscriptable\n",
      "Failed to Make Response  'NoneType' object is not subscriptable\n",
      "Failed to Make Response  'NoneType' object is not subscriptable\n",
      "Failed to Make Response  'NoneType' object is not subscriptable\n",
      "Failed to Make Response  'NoneType' object is not subscriptable\n",
      "Failed to Make Response  'NoneType' object is not subscriptable\n",
      "Failed to Make Response  'NoneType' object is not subscriptable\n",
      "Failed to Make Response  'NoneType' object is not subscriptable\n",
      "Failed to Make Response  'NoneType' object is not subscriptable\n",
      "Failed to Make Response  'NoneType' object is not subscriptable\n",
      "Failed to Make Response  'NoneType' object is not subscriptable\n",
      "Failed to Make Response  'NoneType' object is not subscriptable\n",
      "Failed to Make Response  'NoneType' object is not subscriptable\n",
      "Failed to Make Response  'NoneType' object is not subscriptable\n",
      "Failed to Make Response  'NoneType' object is not subscriptable\n",
      "Failed to Make Response  'NoneType' object is not subscriptable\n",
      "Failed to Make Response  'NoneType' object is not subscriptable\n",
      "Failed to Make Response  'NoneType' object is not subscriptable\n",
      "Failed to Make Response  'NoneType' object is not subscriptable\n",
      "Failed to Make Response  'NoneType' object is not subscriptable\n",
      "Failed to Make Response  'NoneType' object is not subscriptable\n",
      "Failed to Make Response  'NoneType' object is not subscriptable\n",
      "Failed to Make Response  'NoneType' object is not subscriptable\n",
      "Failed to Make Response  'NoneType' object is not subscriptable\n",
      "Failed to Make Response  'NoneType' object is not subscriptable\n",
      "Failed to Make Response  'NoneType' object is not subscriptable\n",
      "Failed to Make Response  'NoneType' object is not subscriptable\n",
      "Failed to Make Response  'NoneType' object is not subscriptable\n",
      "Failed to Make Response  'NoneType' object is not subscriptable\n",
      "Failed to Make Response  'NoneType' object is not subscriptable\n",
      "Failed to Make Response  'NoneType' object is not subscriptable\n",
      "Failed to Make Response  'NoneType' object is not subscriptable\n",
      "Failed to Make Response  'NoneType' object is not subscriptable\n",
      "Failed to Make Response  'NoneType' object is not subscriptable\n",
      "Failed to Make Response  'NoneType' object is not subscriptable\n",
      "Failed to Make Response  'NoneType' object is not subscriptable\n",
      "Failed to Make Response  ('Connection aborted.', RemoteDisconnected('Remote end closed connection without response'))\n",
      "Failed to Make Response  'NoneType' object is not subscriptable\n",
      "Failed to Make Response  'NoneType' object is not subscriptable\n",
      "Failed to Make Response  'NoneType' object is not subscriptable\n",
      "Failed to Make Response  'NoneType' object is not subscriptable\n",
      "Failed to Make Response  'NoneType' object is not subscriptable\n",
      "Failed to Make Response  'NoneType' object is not subscriptable\n",
      "Failed to Make Response  'NoneType' object is not subscriptable\n",
      "Failed to Make Response  'NoneType' object is not subscriptable\n",
      "Failed to Make Response  'NoneType' object is not subscriptable\n",
      "Failed to Make Response  'NoneType' object is not subscriptable\n",
      "Failed to Make Response  'NoneType' object is not subscriptable\n",
      "Failed to Make Response  'NoneType' object is not subscriptable\n",
      "Failed to Make Response  'NoneType' object is not subscriptable\n",
      "Failed to Make Response  'NoneType' object is not subscriptable\n",
      "Failed to Make Response  'NoneType' object is not subscriptable\n",
      "Failed to Make Response  'NoneType' object is not subscriptable\n",
      "Failed to Make Response  'NoneType' object is not subscriptable\n",
      "Failed to Make Response  'NoneType' object is not subscriptable\n",
      "Failed to Make Response  'NoneType' object is not subscriptable\n",
      "Failed to Make Response  'NoneType' object is not subscriptable\n",
      "Failed to Make Response  'NoneType' object is not subscriptable\n",
      "Failed to Make Response  'NoneType' object is not subscriptable\n"
     ]
    }
   ],
   "source": [
    "for html_file in html_files:\n",
    "    translate(html_file)"
   ]
  }
 ],
 "metadata": {
  "kernelspec": {
   "display_name": "Python 3",
   "language": "python",
   "name": "python3"
  },
  "language_info": {
   "codemirror_mode": {
    "name": "ipython",
    "version": 3
   },
   "file_extension": ".py",
   "mimetype": "text/x-python",
   "name": "python",
   "nbconvert_exporter": "python",
   "pygments_lexer": "ipython3",
   "version": "3.11.2"
  },
  "orig_nbformat": 4
 },
 "nbformat": 4,
 "nbformat_minor": 2
}
