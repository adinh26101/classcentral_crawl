{
 "cells": [
  {
   "cell_type": "code",
   "execution_count": 323,
   "metadata": {},
   "outputs": [],
   "source": [
    "from bs4 import BeautifulSoup\n",
    "from bs4.element import NavigableString\n",
    "import os\n",
    "import glob\n",
    "import re\n",
    "from englisttohindi.englisttohindi import EngtoHindi"
   ]
  },
  {
   "cell_type": "code",
   "execution_count": 324,
   "metadata": {},
   "outputs": [],
   "source": [
    "path = os.getcwd() + \"/pages\"\n",
    "html_files = glob.glob(os.path.join(path, \"*.html\"))"
   ]
  },
  {
   "cell_type": "code",
   "execution_count": 325,
   "metadata": {},
   "outputs": [],
   "source": [
    "tags_text = ['title', 'a', 'p', 'h', 'h1', 'h2', 'h3', 'h4', 'h5', 'h6', 'h7', 'span', 'button', 'strong']"
   ]
  },
  {
   "cell_type": "code",
   "execution_count": 326,
   "metadata": {},
   "outputs": [],
   "source": [
    "def entohin(txt):\n",
    "    txt = txt.replace('|', '123456789')\n",
    "    txt = EngtoHindi(txt).convert\n",
    "    txt = txt.replace('123456789', '|')\n",
    "    return txt"
   ]
  },
  {
   "cell_type": "code",
   "execution_count": 327,
   "metadata": {},
   "outputs": [],
   "source": [
    "# def translate(path_file):\n",
    "#     soup = BeautifulSoup(open(path_file, encoding='utf8'), 'html.parser')\n",
    "\n",
    "#     for tag_text in tags_text:\n",
    "#         tags = soup.find_all(tag_text)\n",
    "#         for tag in tags:\n",
    "#             for child in tag.findChildren():\n",
    "                \n",
    "            \n",
    "\n",
    "#     html = soup.prettify(\"utf-8\")\n",
    "#     with open(path_file.replace('pages', 'hindi_pages'), \"wb\") as file:\n",
    "#         file.write(html)"
   ]
  },
  {
   "cell_type": "code",
   "execution_count": 328,
   "metadata": {},
   "outputs": [],
   "source": [
    "# for html_file in html_files:\n",
    "#     translate(html_file)"
   ]
  },
  {
   "cell_type": "code",
   "execution_count": 332,
   "metadata": {},
   "outputs": [],
   "source": [
    "soup = BeautifulSoup(open('pages/home.html', encoding='utf8'), 'html.parser')"
   ]
  },
  {
   "cell_type": "code",
   "execution_count": 335,
   "metadata": {},
   "outputs": [
    {
     "data": {
      "text/plain": [
       "'\\n          Courses from\\n          '"
      ]
     },
     "execution_count": 335,
     "metadata": {},
     "output_type": "execute_result"
    }
   ],
   "source": [
    "soup.find_all('p')[0].contents[0]"
   ]
  },
  {
   "cell_type": "code",
   "execution_count": 341,
   "metadata": {},
   "outputs": [
    {
     "data": {
      "text/plain": [
       "'पाठ्यक्रम | से'"
      ]
     },
     "execution_count": 341,
     "metadata": {},
     "output_type": "execute_result"
    }
   ],
   "source": [
    "entohin('\\n          Courses | from\\n          ')"
   ]
  },
  {
   "cell_type": "code",
   "execution_count": 342,
   "metadata": {},
   "outputs": [
    {
     "data": {
      "text/plain": [
       "'Courses | from'"
      ]
     },
     "execution_count": 342,
     "metadata": {},
     "output_type": "execute_result"
    }
   ],
   "source": [
    "' '.join('\\n          Courses from\\n          '.split())"
   ]
  },
  {
   "cell_type": "code",
   "execution_count": 330,
   "metadata": {},
   "outputs": [],
   "source": [
    "for tag_text in tags_text:\n",
    "    tag = soup.find_all(tag_text)\n",
    "    for i in range(len(tag)):\n",
    "        contents = tag[i].contents\n",
    "        for j in range(len(contents)):\n",
    "            if not re.match(r'<[^>]+>', str(tag[i].contents[j]))  and str(tag[i].contents[j]).isspace() == False:\n",
    "                tag[i].contents[j] = NavigableString(entohin(tag[i].contents[j]))"
   ]
  },
  {
   "cell_type": "code",
   "execution_count": 331,
   "metadata": {},
   "outputs": [],
   "source": [
    "html = soup.prettify(\"utf-8\")\n",
    "with open('test.html', \"wb\") as file:\n",
    "    file.write(html)"
   ]
  },
  {
   "cell_type": "code",
   "execution_count": null,
   "metadata": {},
   "outputs": [],
   "source": []
  }
 ],
 "metadata": {
  "kernelspec": {
   "display_name": "Python 3",
   "language": "python",
   "name": "python3"
  },
  "language_info": {
   "codemirror_mode": {
    "name": "ipython",
    "version": 3
   },
   "file_extension": ".py",
   "mimetype": "text/x-python",
   "name": "python",
   "nbconvert_exporter": "python",
   "pygments_lexer": "ipython3",
   "version": "3.11.2"
  },
  "orig_nbformat": 4
 },
 "nbformat": 4,
 "nbformat_minor": 2
}
