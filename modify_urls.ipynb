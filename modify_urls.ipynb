{
 "cells": [
  {
   "cell_type": "code",
   "execution_count": 1,
   "metadata": {},
   "outputs": [],
   "source": [
    "from bs4 import BeautifulSoup\n",
    "import os\n",
    "import glob"
   ]
  },
  {
   "cell_type": "code",
   "execution_count": 3,
   "metadata": {},
   "outputs": [],
   "source": [
    "path = os.getcwd() + \"/pages\"\n",
    "html_files = glob.glob(os.path.join(path, \"*.html\"))"
   ]
  },
  {
   "cell_type": "code",
   "execution_count": 4,
   "metadata": {},
   "outputs": [],
   "source": [
    "# def modify_href(path_file):\n",
    "#     soup = BeautifulSoup(open(path_file, encoding='utf8'), 'html.parser')\n",
    "#     href = soup.find_all(href=True)\n",
    "\n",
    "#     for url in href:\n",
    "#         base = 'https://www.classcentral.com/'\n",
    "#         url['href'] = url['href'].replace(base, '')\n",
    "        \n",
    "    \n",
    "#     html = soup.prettify(\"utf-8\")\n",
    "#     with open(path_file, \"wb\") as file:\n",
    "#         file.write(html)"
   ]
  },
  {
   "cell_type": "code",
   "execution_count": 5,
   "metadata": {},
   "outputs": [],
   "source": [
    "# for html_file in html_files:\n",
    "#     modify_href(html_file)"
   ]
  },
  {
   "cell_type": "code",
   "execution_count": 6,
   "metadata": {},
   "outputs": [],
   "source": [
    "# def report_href(path_file):\n",
    "#     soup = BeautifulSoup(open(path_file, encoding='utf8'), 'html.parser')\n",
    "#     href = soup.find_all(href=True)\n",
    "\n",
    "#     for url in href:\n",
    "#         base = 'https://www.classcentral.com/'\n",
    "#         url['href'] = base + url['href']\n",
    "        \n",
    "    \n",
    "#     html = soup.prettify(\"utf-8\")\n",
    "#     with open(path_file, \"wb\") as file:\n",
    "#         file.write(html)"
   ]
  },
  {
   "cell_type": "code",
   "execution_count": 7,
   "metadata": {},
   "outputs": [],
   "source": [
    "# for html_file in html_files:\n",
    "#     report_href(html_file)"
   ]
  },
  {
   "cell_type": "code",
   "execution_count": 8,
   "metadata": {},
   "outputs": [],
   "source": [
    "# def is_celebrate_href(path_file):\n",
    "#     soup = BeautifulSoup(open(path_file, encoding='utf8'), 'html.parser')\n",
    "#     img = soup.select_one('#news-banner > div > div > a > h3 > img')\n",
    "\n",
    "#     img['src'] = 'https://www.classcentral.com/images/promobar/celebrate.svg'\n",
    "    \n",
    "#     html = soup.prettify(\"utf-8\")\n",
    "#     with open(path_file, \"wb\") as file:\n",
    "#         file.write(html)"
   ]
  },
  {
   "cell_type": "code",
   "execution_count": 9,
   "metadata": {},
   "outputs": [],
   "source": [
    "# for html_file in html_files:\n",
    "#     try:\n",
    "#         is_celebrate_href(html_file)\n",
    "#     except:\n",
    "#         pass"
   ]
  },
  {
   "cell_type": "code",
   "execution_count": 10,
   "metadata": {},
   "outputs": [],
   "source": [
    "# def iframe(path_file):\n",
    "#     soup = BeautifulSoup(open(path_file, encoding='utf8'), 'html.parser')\n",
    "#     # img = soup.select_one('#page-institution > div.contain-page.bg-gray-xxlight > div.width-page.medium-down-padding-horz-medium.catalog-grid > div.catalog-grid__results > ol > li:nth-child(1) > iframe')\n",
    "#     # img = soup.select_one('#page-subject > div.contain-page.bg-gray-xxlight > div.width-page.medium-down-padding-horz-medium.catalog-grid > div.catalog-grid__results > ol > li:nth-child(1) > iframe')\n",
    "#     # img = soup.select_one('#page-collection > div.contain-page.bg-gray-xxlight > div.bg-white.width-100.margin-bottom-large.border-gray-light.border-bottom.relative > div.width-page.medium-down-padding-horz-medium.padding-bottom-medium.medium-up-padding-bottom-xlarge > picture > source')\n",
    "#     img = soup.select_one('#page-collection > div.contain-page.bg-gray-xxlight > div.bg-white.width-100.margin-bottom-large.border-gray-light.border-bottom.relative > div.width-page.medium-down-padding-horz-medium.padding-bottom-medium.medium-up-padding-bottom-xlarge > picture > img')\n",
    "\n",
    "#     img['src'] = 'https://www.classcentral.com' + img['src']\n",
    "    \n",
    "#     html = soup.prettify(\"utf-8\")\n",
    "#     with open(path_file, \"wb\") as file:\n",
    "#         file.write(html)"
   ]
  },
  {
   "cell_type": "code",
   "execution_count": 11,
   "metadata": {},
   "outputs": [],
   "source": [
    "# for html_file in html_files:\n",
    "#     try:\n",
    "#         iframe(html_file)\n",
    "#     except:\n",
    "#         pass"
   ]
  },
  {
   "cell_type": "code",
   "execution_count": 12,
   "metadata": {},
   "outputs": [],
   "source": [
    "# def change_manifest(path_file):\n",
    "#     soup = BeautifulSoup(open(path_file, encoding='utf8'), 'html.parser')\n",
    "#     href = soup.find_all(href=True)\n",
    "\n",
    "#     for url in href:\n",
    "#         if url['href'] == \"https://www.classcentral.com/report/wp-content/themes/wp-theme/dist/images/site.webmanifest\":\n",
    "#             url['href'] = \"http://127.0.0.1:8000/webpack/utils/site.webmanifest\"\n",
    "                \n",
    "#             html = soup.prettify(\"utf-8\")\n",
    "#             with open(path_file, \"wb\") as file:\n",
    "#                 file.write(html)"
   ]
  },
  {
   "cell_type": "code",
   "execution_count": 13,
   "metadata": {},
   "outputs": [],
   "source": [
    "# for html_file in html_files:\n",
    "#     change_manifest(html_file)"
   ]
  },
  {
   "cell_type": "code",
   "execution_count": 6,
   "metadata": {},
   "outputs": [],
   "source": [
    "soup = BeautifulSoup(open('pages/report_.html', encoding='utf8'), 'html.parser')"
   ]
  },
  {
   "cell_type": "code",
   "execution_count": 8,
   "metadata": {},
   "outputs": [],
   "source": [
    "content = soup.select('a')"
   ]
  },
  {
   "cell_type": "code",
   "execution_count": 17,
   "metadata": {},
   "outputs": [
    {
     "data": {
      "text/plain": [
       "5"
      ]
     },
     "execution_count": 17,
     "metadata": {},
     "output_type": "execute_result"
    }
   ],
   "source": [
    "len(content[0].findChildren())"
   ]
  }
 ],
 "metadata": {
  "kernelspec": {
   "display_name": "Python 3",
   "language": "python",
   "name": "python3"
  },
  "language_info": {
   "codemirror_mode": {
    "name": "ipython",
    "version": 3
   },
   "file_extension": ".py",
   "mimetype": "text/x-python",
   "name": "python",
   "nbconvert_exporter": "python",
   "pygments_lexer": "ipython3",
   "version": "3.11.2"
  },
  "orig_nbformat": 4
 },
 "nbformat": 4,
 "nbformat_minor": 2
}
