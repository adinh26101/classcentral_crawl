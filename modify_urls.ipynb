{
 "cells": [
  {
   "cell_type": "code",
   "execution_count": 11,
   "metadata": {},
   "outputs": [],
   "source": [
    "from bs4 import BeautifulSoup\n",
    "import os\n",
    "import glob"
   ]
  },
  {
   "cell_type": "code",
   "execution_count": 12,
   "metadata": {},
   "outputs": [],
   "source": [
    "path = os.getcwd() + \"/pages\"\n",
    "html_files = glob.glob(os.path.join(path, \"report*.html\"))"
   ]
  },
  {
   "cell_type": "code",
   "execution_count": 13,
   "metadata": {},
   "outputs": [],
   "source": [
    "# def modify_href(path_file):\n",
    "#     soup = BeautifulSoup(open(path_file, encoding='utf8'), 'html.parser')\n",
    "#     href = soup.find_all(href=True)\n",
    "\n",
    "#     for url in href:\n",
    "#         base = 'https://www.classcentral.com/'\n",
    "#         url['href'] = url['href'].replace(base, '')\n",
    "        \n",
    "    \n",
    "#     html = soup.prettify(\"utf-8\")\n",
    "#     with open(path_file, \"wb\") as file:\n",
    "#         file.write(html)"
   ]
  },
  {
   "cell_type": "code",
   "execution_count": 14,
   "metadata": {},
   "outputs": [],
   "source": [
    "# for html_file in html_files:\n",
    "#     modify_href(html_file)"
   ]
  },
  {
   "cell_type": "code",
   "execution_count": 15,
   "metadata": {},
   "outputs": [],
   "source": [
    "# def report_href(path_file):\n",
    "#     soup = BeautifulSoup(open(path_file, encoding='utf8'), 'html.parser')\n",
    "#     href = soup.find_all(href=True)\n",
    "\n",
    "#     for url in href:\n",
    "#         base = 'https://www.classcentral.com/'\n",
    "#         url['href'] = base + url['href']\n",
    "        \n",
    "    \n",
    "#     html = soup.prettify(\"utf-8\")\n",
    "#     with open(path_file, \"wb\") as file:\n",
    "#         file.write(html)"
   ]
  },
  {
   "cell_type": "code",
   "execution_count": 16,
   "metadata": {},
   "outputs": [],
   "source": [
    "# for html_file in html_files:\n",
    "#     report_href(html_file)"
   ]
  },
  {
   "cell_type": "code",
   "execution_count": 17,
   "metadata": {},
   "outputs": [],
   "source": [
    "def is_celebrate_href(path_file):\n",
    "    soup = BeautifulSoup(open(path_file, encoding='utf8'), 'html.parser')\n",
    "    img = soup.select_one('#news-banner > div > div > a > h3 > img')\n",
    "\n",
    "    img['src'] = 'https://www.classcentral.com/images/promobar/celebrate.svg'\n",
    "    \n",
    "    html = soup.prettify(\"utf-8\")\n",
    "    with open(path_file, \"wb\") as file:\n",
    "        file.write(html)"
   ]
  },
  {
   "cell_type": "code",
   "execution_count": 18,
   "metadata": {},
   "outputs": [
    {
     "ename": "TypeError",
     "evalue": "list indices must be integers or slices, not str",
     "output_type": "error",
     "traceback": [
      "\u001b[1;31m---------------------------------------------------------------------------\u001b[0m",
      "\u001b[1;31mTypeError\u001b[0m                                 Traceback (most recent call last)",
      "Cell \u001b[1;32mIn[18], line 2\u001b[0m\n\u001b[0;32m      1\u001b[0m \u001b[39mfor\u001b[39;00m html_file \u001b[39min\u001b[39;00m html_files:\n\u001b[1;32m----> 2\u001b[0m     is_celebrate_href(html_file)\n",
      "Cell \u001b[1;32mIn[17], line 5\u001b[0m, in \u001b[0;36mis_celebrate_href\u001b[1;34m(path_file)\u001b[0m\n\u001b[0;32m      2\u001b[0m soup \u001b[39m=\u001b[39m BeautifulSoup(\u001b[39mopen\u001b[39m(path_file, encoding\u001b[39m=\u001b[39m\u001b[39m'\u001b[39m\u001b[39mutf8\u001b[39m\u001b[39m'\u001b[39m), \u001b[39m'\u001b[39m\u001b[39mhtml.parser\u001b[39m\u001b[39m'\u001b[39m)\n\u001b[0;32m      3\u001b[0m img \u001b[39m=\u001b[39m soup\u001b[39m.\u001b[39mfind_all(\u001b[39m'\u001b[39m\u001b[39m#news-banner > div > div > a > h3 > img\u001b[39m\u001b[39m'\u001b[39m)\n\u001b[1;32m----> 5\u001b[0m img[\u001b[39m'\u001b[39;49m\u001b[39msrc\u001b[39;49m\u001b[39m'\u001b[39;49m] \u001b[39m=\u001b[39m \u001b[39m'\u001b[39m\u001b[39mhttps://www.classcentral.com/images/promobar/celebrate.svg\u001b[39m\u001b[39m'\u001b[39m\n\u001b[0;32m      7\u001b[0m html \u001b[39m=\u001b[39m soup\u001b[39m.\u001b[39mprettify(\u001b[39m\"\u001b[39m\u001b[39mutf-8\u001b[39m\u001b[39m\"\u001b[39m)\n\u001b[0;32m      8\u001b[0m \u001b[39mwith\u001b[39;00m \u001b[39mopen\u001b[39m(path_file, \u001b[39m\"\u001b[39m\u001b[39mwb\u001b[39m\u001b[39m\"\u001b[39m) \u001b[39mas\u001b[39;00m file:\n",
      "\u001b[1;31mTypeError\u001b[0m: list indices must be integers or slices, not str"
     ]
    }
   ],
   "source": [
    "for html_file in html_files:\n",
    "    is_celebrate_href(html_file)"
   ]
  },
  {
   "cell_type": "code",
   "execution_count": null,
   "metadata": {},
   "outputs": [],
   "source": []
  }
 ],
 "metadata": {
  "kernelspec": {
   "display_name": "Python 3",
   "language": "python",
   "name": "python3"
  },
  "language_info": {
   "codemirror_mode": {
    "name": "ipython",
    "version": 3
   },
   "file_extension": ".py",
   "mimetype": "text/x-python",
   "name": "python",
   "nbconvert_exporter": "python",
   "pygments_lexer": "ipython3",
   "version": "3.11.2"
  },
  "orig_nbformat": 4
 },
 "nbformat": 4,
 "nbformat_minor": 2
}
