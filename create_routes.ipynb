{
 "cells": [
  {
   "cell_type": "code",
   "execution_count": 47,
   "id": "d49aae72",
   "metadata": {},
   "outputs": [],
   "source": [
    "import os\n",
    "import glob"
   ]
  },
  {
   "cell_type": "code",
   "execution_count": 48,
   "id": "8d715ce6",
   "metadata": {},
   "outputs": [],
   "source": [
    "path = os.getcwd() + \"/pages\"\n",
    "html_files = glob.glob(os.path.join(path, \"*.html\"))"
   ]
  },
  {
   "cell_type": "code",
   "execution_count": 49,
   "id": "0c7227fc",
   "metadata": {},
   "outputs": [],
   "source": [
    "file_names = []\n",
    "for file in html_files:\n",
    "    name = file.replace(\"c:\\\\Users\\\\anhpc\\\\Desktop\\\\crawl/pages\\\\\" , \"\")\n",
    "    name = name.replace(\"_\" , \"/\")\n",
    "    name = name.replace(\".html\" , \"\")\n",
    "    file_names.append(name)"
   ]
  },
  {
   "cell_type": "code",
   "execution_count": 50,
   "id": "7cdab2d5",
   "metadata": {},
   "outputs": [],
   "source": [
    "def create_urls(url):\n",
    "    name = url.replace(\"/\", \"_\")\n",
    "    name = name.replace(\"-\", \"_\")\n",
    "    return \"path('{}', {}, name='{}'),\".format(url, name, name)"
   ]
  },
  {
   "cell_type": "code",
   "execution_count": 51,
   "id": "1601e2f8",
   "metadata": {},
   "outputs": [],
   "source": [
    "f = open('urls', 'w')\n",
    "for file in file_names:\n",
    "    f.write(create_urls(file))\n",
    "    f.write('\\n')\n",
    "\n",
    "f.close()"
   ]
  },
  {
   "cell_type": "code",
   "execution_count": 52,
   "id": "6e12d1c4",
   "metadata": {},
   "outputs": [],
   "source": [
    "file_names = []\n",
    "for file in html_files:\n",
    "    name = file.replace(\"c:\\\\Users\\\\anhpc\\\\Desktop\\\\crawl/pages\\\\\" , \"\")\n",
    "    file_names.append(name)"
   ]
  },
  {
   "cell_type": "code",
   "execution_count": 53,
   "metadata": {},
   "outputs": [],
   "source": [
    "def create_views(file_name):\n",
    "    name = file_name.replace(\"/\", \"_\")\n",
    "    name = name.replace(\"-\", \"_\")\n",
    "    name = name.replace(\".html\", \"\")\n",
    "    return \"\"\"\n",
    "def {}(request):\n",
    "    return render(request, '{}')\n",
    "    \"\"\".format(name, file_name)"
   ]
  },
  {
   "cell_type": "code",
   "execution_count": 54,
   "id": "305329ee",
   "metadata": {},
   "outputs": [],
   "source": [
    "f = open('views', 'w')\n",
    "for file_name in file_names:\n",
    "    f.write(create_views(file_name))\n",
    "    f.write('\\n')\n",
    "\n",
    "f.close()"
   ]
  },
  {
   "cell_type": "code",
   "execution_count": null,
   "id": "06fe21b4",
   "metadata": {},
   "outputs": [],
   "source": []
  }
 ],
 "metadata": {
  "kernelspec": {
   "display_name": "Python 3",
   "language": "python",
   "name": "python3"
  },
  "language_info": {
   "codemirror_mode": {
    "name": "ipython",
    "version": 3
   },
   "file_extension": ".py",
   "mimetype": "text/x-python",
   "name": "python",
   "nbconvert_exporter": "python",
   "pygments_lexer": "ipython3",
   "version": "3.11.2"
  },
  "vscode": {
   "interpreter": {
    "hash": "fe3f8aea8bd52736e6842e228ac0edbe668bd5ccd80cb6944845ef635ec19a83"
   }
  }
 },
 "nbformat": 4,
 "nbformat_minor": 5
}
